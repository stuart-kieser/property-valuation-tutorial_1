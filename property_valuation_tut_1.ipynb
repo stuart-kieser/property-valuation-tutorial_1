{
 "cells": [
  {
   "cell_type": "markdown",
   "metadata": {},
   "source": [
    "Python immmovable property valuation tutorial. "
   ]
  },
  {
   "cell_type": "markdown",
   "metadata": {},
   "source": [
    "Making use of modules such as Beautifulsoup and numpy are helpful in valuation. \n",
    "Beautifulsoup is particulalrly strong in data collection for comparable sales. Whilst numpy is capable of \n",
    "various mathmatical operations including TVM, DCF and other equations so demonstrated in this tutorial. "
   ]
  },
  {
   "cell_type": "code",
   "execution_count": 19,
   "metadata": {},
   "outputs": [
    {
     "name": "stdout",
     "output_type": "stream",
     "text": [
      "PRICES: (363, ['3800000', '850000', '4400000', '1260000', '1180000', '3650000', '2595000', '2600000', '2029075', '2899000', '963000', '4799000', '1750000', '2595000', '3800000', '850000', '4400000', '1260000', '1180000', '3650000', '2595000', '2600000', '2029075', '2899000', '963000', '4799000', '1750000', '3180000', '2500000', '2620000', '2300000', '10500000', '11980000', '5200000', '1749000', '3399000', '1600000', '9499999', '1900000', '11990000', '13499000', '15999000', '3240000', '8499000', '2620000', '1990000', '7999000', '2499000', '1850000', '780000', '14000000', '5495000', '3549000', '2500000', '2499000', '10995000', '8900000', '5600000', '2299000', '3800000', '2450000', '4850000', '2499000', '2800000', '1899000', '2900000', '5500000', '6499000', '2200000', '9999000', '870000', '5400000', '2500000', '6699000', '1350000', '3999000', '6499000', '12999000', '9999000', '670000', '5980000', '15999000', '2049000', '2750000', '11600000', '4499000', '2899000', '7990000', '1900000', '26000000', '920000', '4999000', '12500000', '599500', '4695000', '11999000', '4148000', '5499999', '2049000', '6250000', '5900000', '978000', '11500000', '5723000', '9980000', '32000000', '11950000', '1500000', '11999000', '2049000', '10500000', '2650000', '2999000', '3990000', '14995000', '1899000', '4250000', '3499000', '1400000', '3549000', '1250000', '9800000', '1595000', '6000000', '4395000', '6499000', '2399000', '16500000', '1595000', '1930000', '6300000', '13500000', '2350000', '26000000', '14499000', '3850000', '7950000', '19500000', '2499000', '1999999', '1750000', '5800000', '12999000', '1626075', '1800000', '1750000', '9500000', '790000', '3199000', '2399999', '4000000', '1650000', '1150000', '849000', '1899000', '4350000', '750000', '36900000', '1450000', '2750000', '5499900', '12950000', '850000', '9299000', '3200000', '2275000', '2650000', '4599000', '779000', '899900', '4499000', '2900000', '4350000', '5200000', '3540000', '1040000', '4338000', '5200000', '5999000', '5599000', '6500000', '4999000', '5999000', '2910000', '2650000', '2199000', '1900000', '1995000', '5900000', '6500000', '449000', '5450000', '5000000', '3800000', '850000', '4600000', '8799000', '2550000', '3200000', '1250000', '3200000', '4000000', '2299000', '4480000', '16999000', '1849000', '1795000', '6800000', '1549000', '2600000', '1699000', '1020000', '1900000', '9995000', '3500000', '1350000', '5600000', '1100000', '2099000', '1200000', '1595000', '3999000', '33999000', '1040000', '1100000', '9800000', '950000', '4250000', '1990000', '1300000', '1499000', '980000', '17690000', '17999000', '4799000', '786286', '1100000', '5500000', '1399000', '1900000', '6160000', '3580000', '4199000', '4495000', '1900000', '860000', '850000', '6300000', '2750000', '850000', '1699000', '2350000', '865000', '2790000', '6199000', '1690000', '1599000', '1150000', '2199000', '360000', '5495000', '1850000', '2199000', '1100000', '900000', '1699000', '3250000', '3675000', '1150000', '1200000', '800000', '1500000', '750000', '4499000', '5495000', '4800000', '2300000', '5300000', '5199999', '1320000', '8950000', '1599000', '2195000', '2700000', '5625000', '3490000', '2800000', '1999999', '999000', '1749000', '3490000', '6450000', '1900000', '1600000', '2649000', '1340000', '2850000', '3799000', '3100000', '12500000', '1650000', '5200000', '1619000', '850000', '1619000', '2250000', '3800000', '24000000', '9995000', '8250000', '900000', '2199999', '16500000', '12800000', '15995000', '1099000', '700000', '4200000', '1999000', '5500000', '7650000', '13999000', '859999', '1550000', '9500000', '1250000', '690000', '4350000', '5500000', '2000000', '750000', '2774000', '2000000', '4200000', '1650000', '1395000', '5499000', '890000', '8999000', '650000', '4350000', '2500000', '820000', '3299000', '2100000', '890000', '1200000', '3400000', '1160000', '2299000', '2999000', '2760000', '4450000', '10495000', '1500000', '900000', '4150000', '6600000', '3950000', '2999999', '2100000', '7500000', '2250000'])\n",
      "SIZE LIST FORMATTED: 359 ['134', '301', '305', '342', '406', '400', '235', '225', '816', '184', '12227', '319', '247', '301', '128', '1039', '500', '555', '242', '2145', '386', '321', '301', '305', '128', '342', '406', '400', '235', '225', '816', '184', '12227', '319', '247', '128', '1039', '500', '555', '242', '2145', '386', '134', '175', '706', '155', '359', '1119', '1036', '1000', '386', '435', '127', '2300', '332', '1354', '1308', '1311', '707', '518', '155', '400', '1003', '1150', '134', '146', '74', '11000', '715', '600', '900', '420', '1017', '1280', '666', '325', '677', '500', '13000', '420', '435', '980', '436', '2000', '598', '1289', '225', '112000', '66', '796', '600', '124', '1168', '598', '1096', '112000', '44', '701', '1300', '179', '1600', '1125', '915', '555', '600', '227', '10000', '254', '1872', '1000', '235', '978', '1219', '520', '609', '182', '600', '523', '158', '1019', '11910', '701', '9500', '1452', '237', '1118', '182', '1119', '1075', '312', '931', '1125', '1080', '911', '600', '435', '605', '299', '815', '306', '650', '604', '1000', '1059', '1103', '306', '20153', '600', '5070', '402', '11000', '1085', '368', '13951', '876', '706', '298', '301', '5886', '10963', '250', '393', '301', '1024', '8565', '400', '500', '1054', '300', '85', '118', '10000', '273', '8500', '320', '368', '923', '10000', '222', '1023', '480', '361', '400', '528', '200', '126', '2277', '515', '10000', '1000', '540', '65', '611', '631', '632', '2620', '1015', '602', '1114', '500', '1080', '185', '146', '955', '8566', '1015', '310', '431000', '5018', '816', '572', '863', '164', '8565', '8565', '8500', '341', '1019', '1128', '268', '1125', '598', '460', '167', '171', '341', '1019', '600', '241', '2304', '250', '190', '250', '300', '546', '1580', '65', '752', '250', '1294', '1070', '126', '10000', '1200', '767', '180', '8665', '167', '672', '457', '1012', '14847', '344', '183', '171', '550', '368', '171', '148', '127', '872', '631', '1313', '1020', '315', '186', '200', '13000', '186', '207', '180', '167', '603', '10000', '58', '429', '223', '1150', '126', '1143', '13000', '2147', '327', '25000', '2890', '95', '5051', '1063', '1081', '600', '11000', '400', '1070', '301', '11000', '1859', '167', '477', '1200', '195', '617', '175', '10400', '461', '10980', '180', '430', '420', '5027', '1019', '1000', '253', '179', '33000', '2740', '11722', '257', '2209', '981', '5036', '12813', '1005', '183', '360', '9000', '264', '204', '10000', '605', '391', '298', '612', '3000', '300', '261', '1204', '166', '1906', '210', '10000', '610', '773', '402', '250', '435', '334', '1037', '400', '8565', '900', '513', '280', '661', '14000', '8565', '620', '402', '1100', '348']\n"
     ]
    }
   ],
   "source": [
    "import requests\n",
    "from bs4 import BeautifulSoup\n",
    "import urls\n",
    "import csv\n",
    "\n",
    "pricelist = []\n",
    "titlelist = []\n",
    "locationlist = []\n",
    "addresslist = []\n",
    "sizelist = []\n",
    "\n",
    "\n",
    "\n",
    "for x in range(18):\n",
    "    p24 = f\"https://www.property24.com/houses-for-sale/midrand/gauteng/16/p{x}\"\n",
    "    req = requests.get(p24)\n",
    "    soup = BeautifulSoup(req.text, \"html.parser\")\n",
    "    for price in soup.find_all(\"span\", attrs=[\"p24_price\"]):\n",
    "        pricelist.append(price.text)\n",
    "    for size in soup.find_all(\"span\", attrs=[\"p24_size\"]):\n",
    "        sizelist.append(size.text)\n",
    "\n",
    "\n",
    "\n",
    "pricelist = [price.strip().replace(\"\\n\", \"\").replace(\"\\r\", \"\").replace(\" \", \"\").replace(\"R\", \"\") for price in pricelist]    \n",
    "print(f\"PRICES: {len(pricelist), pricelist}\")\n",
    "\n",
    "sizelist = [size.strip().replace(\"\\n\", \"\").replace(\"m²\", \"\").replace(\" \", \"\").replace(\"ha\", \"000\").replace(\".\", \"\") for size in sizelist]\n",
    "print(f\"SIZE LIST FORMATTED: {len(sizelist)} {sizelist}\")\n",
    "\n"
   ]
  },
  {
   "cell_type": "markdown",
   "metadata": {},
   "source": [
    "Before parsing the data we need to set up variables to hold the data pulled from the website, today we will pull the price, title, location, address and property size from various different urls. "
   ]
  },
  {
   "cell_type": "markdown",
   "metadata": {},
   "source": [
    "We use the find_all() parameter to collect all data partaining to the selected parameters, for more information see the Beautifulsoup documentation online.\n",
    "As seen the data is dirty and requires cleaning. \n",
    "\n",
    "The pricelist and sizelist require formatting. "
   ]
  },
  {
   "cell_type": "markdown",
   "metadata": {},
   "source": [
    "The lists are converted into numpy arrays to be used with numpy. \n",
    "We can now start with the mathmatical aspects of valuation. \n",
    "It is clear to first set out what metrics we will need to look at, average house price and house area are helpful in the calculation of land value per m^2. "
   ]
  },
  {
   "cell_type": "code",
   "execution_count": 20,
   "metadata": {},
   "outputs": [
    {
     "name": "stdout",
     "output_type": "stream",
     "text": [
      "weighted_mean: 3822094.5559441, stdprice: 5012160.718480242, stdsize: 24332.099715267806, other: 205.98965059045983\n"
     ]
    }
   ],
   "source": [
    "import numpy as np\n",
    "\n",
    "pricelist.pop(0)\n",
    "pricelist.pop(0)\n",
    "pricelist.pop(0)\n",
    "pricelist.pop(0)\n",
    "\n",
    "nsize = np.array(sizelist, dtype=int)\n",
    "nprice = np.array(pricelist, dtype=int)\n",
    "weighted_mean = np.average(nprice, weights=(nsize))\n",
    "stdsize = np.std(nsize)\n",
    "stdprice = np.std(nprice)\n",
    "stdave = stdprice/stdsize\n",
    "\n",
    "\n",
    "\n",
    "\n",
    "print(f\"weighted_mean: {weighted_mean}, stdprice: {stdprice}, stdsize: {stdsize}, other: {stdave}\")\n"
   ]
  },
  {
   "cell_type": "code",
   "execution_count": 23,
   "metadata": {},
   "outputs": [
    {
     "name": "stdout",
     "output_type": "stream",
     "text": [
      "Average Price weighted: 4642888.027855153, Average area weighted: 3775.7298050139275\n",
      "Average land value: 1229.6663870623622\n",
      "Average land value weighted: 3822094.5559441\n",
      "Total Price: 1666796802.0, Total area: 1355487.0\n",
      "Median price prediction: 2800000.0\n",
      "Median size prediction: 600.0\n",
      "Median averaged: 4666.666666666667\n"
     ]
    }
   ],
   "source": [
    "totalprice = nprice.astype(float).sum()\n",
    "totalsize = nsize.astype(float).sum()\n",
    "\n",
    "aveprice = totalprice/len(nprice)\n",
    "avesize = totalsize/len(nsize)\n",
    "avelandvalue = aveprice/avesize\n",
    "mediansize = np.median(nsize)\n",
    "medianprice = np.median(nprice)\n",
    "medianaveraged = medianprice/mediansize \n",
    "\n",
    "print(f\"Average Price weighted: {aveprice}, Average area weighted: {avesize}\")\n",
    "print(f\"Average land value: {avelandvalue}\")\n",
    "print(f\"Average land value weighted: {weighted_mean}\")\n",
    "print(f\"Total Price: {totalprice}, Total area: {totalsize}\")\n",
    "print(f\"Median price prediction: {medianprice}\")\n",
    "print(f\"Median size prediction: {mediansize}\")\n",
    "print(f\"Median averaged: {medianaveraged}\")"
   ]
  },
  {
   "cell_type": "markdown",
   "metadata": {},
   "source": [
    "The above calculation is used to determine average land value per m^2. This is helpful for establishing a potential price of a valuation if using the GBA. \n",
    "The downside to this is certain larger properties also greatly decrease the rand value per m2, while it is true the bigger the property the greater the value, that value is only mainly derived from the physical improvements to the land. In the case of the above data an outlier of 10000m or 1 hectare greatly affects the average land size and price. While other parsed data may include the total area of the land rather than just the GBA. "
   ]
  },
  {
   "cell_type": "code",
   "execution_count": 27,
   "metadata": {},
   "outputs": [
    {
     "name": "stdout",
     "output_type": "stream",
     "text": [
      "valuationprice: (2170560.0, 232.56, 9333.333333333334)\n"
     ]
    }
   ],
   "source": [
    "with open(\"prop_data_large.csv\", \"w\") as r:\n",
    "    writer = csv.writer(r)\n",
    "    writer.writerow(pricelist)\n",
    "\n",
    "FAR = 0.5\n",
    "valuationarea = 232.56\n",
    "valuationprice = valuationarea * (medianaveraged/FAR)\n",
    "print(f\"valuationprice: {valuationprice, valuationarea, (medianaveraged/FAR)}\")"
   ]
  },
  {
   "cell_type": "markdown",
   "metadata": {},
   "source": [
    "Above we see the subject property is worth R2 674 603.45\n",
    "This is fairly close to the stated market value of R 3 000 000.00\n",
    "An estimate for the house price is within R 2 675 000.00 - R 3 000 000.00"
   ]
  }
 ],
 "metadata": {
  "kernelspec": {
   "display_name": "Python 3",
   "language": "python",
   "name": "python3"
  },
  "language_info": {
   "codemirror_mode": {
    "name": "ipython",
    "version": 3
   },
   "file_extension": ".py",
   "mimetype": "text/x-python",
   "name": "python",
   "nbconvert_exporter": "python",
   "pygments_lexer": "ipython3",
   "version": "3.9.9"
  },
  "orig_nbformat": 4
 },
 "nbformat": 4,
 "nbformat_minor": 2
}
