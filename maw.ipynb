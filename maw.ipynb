{
 "cells": [
  {
   "cell_type": "markdown",
   "metadata": {},
   "source": [
    "Crawl property websites to parse previous sales data. "
   ]
  },
  {
   "cell_type": "code",
   "execution_count": 13,
   "metadata": {},
   "outputs": [
    {
     "name": "stdout",
     "output_type": "stream",
     "text": [
      "<module 'pytesseract' from 'c:\\\\Users\\\\stuar\\\\AppData\\\\Local\\\\Programs\\\\Python\\\\Python39\\\\lib\\\\site-packages\\\\pytesseract\\\\__init__.py'>\n",
      "['4600000', '2018', '3400000', '2017', 'vi', '5650000', '2017', '(dyyal', '5', '3', '202']\n",
      "['R3', '200', '000', 'R3', '400', '000', 'R', '2250', '000', '3.000', '000', 'R', '3.250', '000', 'R3', '100', '000', 'R3', '750', '000', 'R', '4550', '000', 'R', '5', '500', '000', 'R3', '300', '000', 'R', '3650000', '2021', '2011', '2021', '2023,', '2022', '2004', '2016']\n",
      "['R', '2850', '000', 'R2580', '000', 'R3320', '000', '3.500', '000', 'R5', '250', '000', 'R65', '250', '000', 'R', '4900', '000', 'R3', '450', '000', 'R', '4600', '000', '2010', '2017']\n"
     ]
    }
   ],
   "source": [
    "from PIL import Image\n",
    "import pytesseract\n",
    "\n",
    "d = []\n",
    "\n",
    "print(pytesseract)\n",
    "# Open the image with pillow\n",
    "image1 = Image.open(\"2023-09-07.png\")\n",
    "pytesseract.pytesseract.tesseract_cmd = r\"C:\\Program Files\\Tesseract-OCR\\tesseract.exe\"\n",
    "data = pytesseract.image_to_string(image1)\n",
    "\n",
    "data = data.split()\n",
    "print(data)\n",
    "\n",
    "\n",
    "image2 = Image.open(\"2023-09-07 (1).png\")\n",
    "pytesseract.pytesseract.tesseract_cmd = r\"C:\\Program Files\\Tesseract-OCR\\tesseract.exe\"\n",
    "data2 = pytesseract.image_to_string(image2)\n",
    "\n",
    "data2 = data2.split()\n",
    "print(data2)\n",
    "\n",
    "image3 = Image.open(\"2023-09-07 (2).png\")\n",
    "pytesseract.pytesseract.tesseract_cmd = r\"C:\\Program Files\\Tesseract-OCR\\tesseract.exe\"\n",
    "data3 = pytesseract.image_to_string(image3)\n",
    "\n",
    "data3 = data3.split()\n",
    "print(data3)\n",
    "\n",
    "d.append(data)\n",
    "d.append(data2)\n",
    "d.append(data3)"
   ]
  }
 ],
 "metadata": {
  "kernelspec": {
   "display_name": "Python 3",
   "language": "python",
   "name": "python3"
  },
  "language_info": {
   "codemirror_mode": {
    "name": "ipython",
    "version": 3
   },
   "file_extension": ".py",
   "mimetype": "text/x-python",
   "name": "python",
   "nbconvert_exporter": "python",
   "pygments_lexer": "ipython3",
   "version": "3.9.9"
  },
  "orig_nbformat": 4
 },
 "nbformat": 4,
 "nbformat_minor": 2
}
